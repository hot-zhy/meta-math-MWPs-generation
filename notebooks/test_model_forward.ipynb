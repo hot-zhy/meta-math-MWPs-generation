{
 "cells": [
  {
   "cell_type": "code",
   "execution_count": 3,
   "metadata": {},
   "outputs": [],
   "source": [
    "from transformers import pipeline, AutoModelForCausalLM, AutoTokenizer\n",
    "import json\n",
    "from tqdm import tqdm"
   ]
  },
  {
   "cell_type": "code",
   "execution_count": 12,
   "metadata": {},
   "outputs": [],
   "source": [
    "# Adjust batch size based on model and machine capabilities\n",
    "batch_size = 8\n",
    "max_seq_len = 1024\n",
    "max_samples = 20\n",
    "\n",
    "# Specify the path to your local model\n",
    "model_path = \"../meta-math/MetaMath-7B-V1.0\"\n",
    "tokenizer_path = \"../meta-math/MetaMath-7B-V1.0\"\n",
    "\n",
    "# Specify the path to your dataset and where to save the answers\n",
    "val_dataset_path = \"../data/AAAI/TAL-SAQ6K-EN.jsonl\"\n",
    "answers_path = \"../data/answers.json\"\n",
    "\n",
    "# Define the instruction template\n",
    "instruction_template = (\n",
    "    \"Below is an instruction that describes a task. \"\n",
    "    \"Write a response that appropriately completes the request.\\n\\n\"\n",
    "    \"### Instruction:\\n{problem}\\n\\n\"\n",
    "    \"### Response: Let's think step by step.\"\n",
    ")"
   ]
  },
  {
   "cell_type": "code",
   "execution_count": 5,
   "metadata": {},
   "outputs": [
    {
     "name": "stderr",
     "output_type": "stream",
     "text": [
      "Loading checkpoint shards: 100%|██████████| 3/3 [01:37<00:00, 32.57s/it]\n"
     ]
    },
    {
     "name": "stdout",
     "output_type": "stream",
     "text": [
      "True\n"
     ]
    }
   ],
   "source": [
    "# Load the tokenizer and model\n",
    "tokenizer = AutoTokenizer.from_pretrained(tokenizer_path)\n",
    "model = AutoModelForCausalLM.from_pretrained(model_path)\n",
    "\n",
    "# Set up the pipeline for text generation\n",
    "text_generator = pipeline(\"text-generation\", model=model, tokenizer=tokenizer, device=0)\n",
    "\n",
    "# Check if the model is on CUDA\n",
    "print(next(text_generator.model.parameters()).is_cuda)"
   ]
  },
  {
   "cell_type": "code",
   "execution_count": 13,
   "metadata": {},
   "outputs": [],
   "source": [
    "# Read the dataset\n",
    "with open(val_dataset_path, 'r') as file:\n",
    "    lines = file.readlines()\n",
    "lines = lines[:max_samples]"
   ]
  },
  {
   "cell_type": "code",
   "execution_count": 14,
   "metadata": {},
   "outputs": [
    {
     "name": "stderr",
     "output_type": "stream",
     "text": [
      "100%|██████████| 3/3 [02:23<00:00, 47.84s/it]\n"
     ]
    }
   ],
   "source": [
    "# Process the questions in batches and generate answers\n",
    "answers_list = []\n",
    "for i in tqdm(range(0, len(lines), batch_size)):\n",
    "    batch = lines[i:i + batch_size]\n",
    "    formatted_problems = [\n",
    "        instruction_template.format(problem=json.loads(line)['problem'])\n",
    "        for line in batch\n",
    "    ]\n",
    "    queIds = [json.loads(line)['queId'] for line in batch]\n",
    "    \n",
    "    # Generate answers using the text_generator\n",
    "    batch_answers = text_generator(formatted_problems, max_length=max_seq_len)\n",
    "\n",
    "    # Extend the answers_list with the new answers\n",
    "    for queId, formatted_problem, answer_dict in zip(queIds, formatted_problems, batch_answers):\n",
    "        # Since each answer_dict is a list with one dictionary\n",
    "        # We access the first element of the list and then the 'generated_text' key\n",
    "        generated_text = answer_dict[0]['generated_text'].strip()\n",
    "        answers_list.append({\n",
    "            'queId': queId,\n",
    "            'problem': formatted_problem,\n",
    "            'answer': generated_text\n",
    "        })"
   ]
  },
  {
   "cell_type": "code",
   "execution_count": 15,
   "metadata": {},
   "outputs": [
    {
     "name": "stdout",
     "output_type": "stream",
     "text": [
      "The answers have been saved to ../data/answers.json\n"
     ]
    }
   ],
   "source": [
    "# Save the results to a JSON file\n",
    "with open(answers_path, 'w') as json_file:\n",
    "    json.dump(answers_list, json_file, indent=4)\n",
    "\n",
    "print(f\"The answers have been saved to {answers_path}\")"
   ]
  }
 ],
 "metadata": {
  "kernelspec": {
   "display_name": "myconda",
   "language": "python",
   "name": "python3"
  },
  "language_info": {
   "codemirror_mode": {
    "name": "ipython",
    "version": 3
   },
   "file_extension": ".py",
   "mimetype": "text/x-python",
   "name": "python",
   "nbconvert_exporter": "python",
   "pygments_lexer": "ipython3",
   "version": "3.11.0"
  }
 },
 "nbformat": 4,
 "nbformat_minor": 2
}
